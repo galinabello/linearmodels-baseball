{
 "cells": [
  {
   "cell_type": "markdown",
   "metadata": {},
   "source": [
    "# Generalized Linear Model"
   ]
  },
  {
   "cell_type": "markdown",
   "metadata": {},
   "source": [
    "## Introduction"
   ]
  },
  {
   "cell_type": "markdown",
   "metadata": {},
   "source": [
    "Welcome back gamers. A generalized linear model predicts some dependent variable y using indepedent variable(s) x. It can be illustrated by a least squares regression line with the following equation:\n",
    "\n",
    "![title](y1.PNG)\n",
    "\n",
    "Where beta 0 and beta 1 are least squares estimators. Beta 0 is the intercept and beta 1 is the slope. \n",
    "\n",
    "There are simple linear regression models (one x variable is used to predict y) and multiple linear regression (more than one x variable is used to predict y). I will focus on a simple linear regression model. \n",
    "\n",
    "Beta 1 and Beta 0 are found by calculating the distance from each data point to the mean, and then squaring or summing those differences. We do this for the both the independent variables (x) and dependent variable (y). Unfortunately, it looks like this:\n",
    "\n",
    "![title](y2.PNG)\n",
    "\n",
    "Thankfully, Python's scikitlearn package can do all of this for us. But I'm a math major so I cannot just do that. I am going to play God and calculate Beta 1 and Beta 0 myself, and then compare my values to what the scikitlearn model uses. \n"
   ]
  },
  {
   "cell_type": "markdown",
   "metadata": {},
   "source": [
    "## Obtaining a data set"
   ]
  },
  {
   "cell_type": "markdown",
   "metadata": {},
   "source": [
    "Before I obtain any data I will import pandas and numpy."
   ]
  },
  {
   "cell_type": "code",
   "execution_count": 3,
   "metadata": {},
   "outputs": [],
   "source": [
    "import pandas as pd\n",
    "import numpy as np"
   ]
  },
  {
   "cell_type": "markdown",
   "metadata": {},
   "source": [
    "I am going to use team_batting module from the pybaseball package. It takes every team's batting data from any season or range of seasons. The data comes from Fangraphs and Statcast I think, but not from the statcast module directly.  "
   ]
  },
  {
   "cell_type": "code",
   "execution_count": 4,
   "metadata": {},
   "outputs": [],
   "source": [
    "from pybaseball import team_batting"
   ]
  },
  {
   "cell_type": "markdown",
   "metadata": {},
   "source": [
    "I will save all batting data from 1980 to 2013 in a dataframe called data1"
   ]
  },
  {
   "cell_type": "code",
   "execution_count": 5,
   "metadata": {},
   "outputs": [
    {
     "data": {
      "text/html": [
       "<div>\n",
       "<style scoped>\n",
       "    .dataframe tbody tr th:only-of-type {\n",
       "        vertical-align: middle;\n",
       "    }\n",
       "\n",
       "    .dataframe tbody tr th {\n",
       "        vertical-align: top;\n",
       "    }\n",
       "\n",
       "    .dataframe thead th {\n",
       "        text-align: right;\n",
       "    }\n",
       "</style>\n",
       "<table border=\"1\" class=\"dataframe\">\n",
       "  <thead>\n",
       "    <tr style=\"text-align: right;\">\n",
       "      <th></th>\n",
       "      <th>Season</th>\n",
       "      <th>Team</th>\n",
       "      <th>G</th>\n",
       "      <th>PA</th>\n",
       "      <th>HR</th>\n",
       "      <th>R</th>\n",
       "      <th>RBI</th>\n",
       "      <th>SB</th>\n",
       "      <th>BB%</th>\n",
       "      <th>K%</th>\n",
       "      <th>...</th>\n",
       "      <th>BABIP</th>\n",
       "      <th>AVG</th>\n",
       "      <th>OBP</th>\n",
       "      <th>SLG</th>\n",
       "      <th>wOBA</th>\n",
       "      <th>wRC+</th>\n",
       "      <th>BsR</th>\n",
       "      <th>Off</th>\n",
       "      <th>Def</th>\n",
       "      <th>WAR</th>\n",
       "    </tr>\n",
       "  </thead>\n",
       "  <tbody>\n",
       "    <tr>\n",
       "      <th>1</th>\n",
       "      <td>2001.0</td>\n",
       "      <td>Mariners</td>\n",
       "      <td>2043.0</td>\n",
       "      <td>6474.0</td>\n",
       "      <td>169.0</td>\n",
       "      <td>927.0</td>\n",
       "      <td>881.0</td>\n",
       "      <td>174.0</td>\n",
       "      <td>0.095</td>\n",
       "      <td>0.153</td>\n",
       "      <td>...</td>\n",
       "      <td>0.320</td>\n",
       "      <td>0.288</td>\n",
       "      <td>0.360</td>\n",
       "      <td>0.445</td>\n",
       "      <td>0.347</td>\n",
       "      <td>116.0</td>\n",
       "      <td>16.2</td>\n",
       "      <td>143.0</td>\n",
       "      <td>84.6</td>\n",
       "      <td>44.4</td>\n",
       "    </tr>\n",
       "    <tr>\n",
       "      <th>2</th>\n",
       "      <td>1998.0</td>\n",
       "      <td>Braves</td>\n",
       "      <td>1971.0</td>\n",
       "      <td>6217.0</td>\n",
       "      <td>215.0</td>\n",
       "      <td>826.0</td>\n",
       "      <td>794.0</td>\n",
       "      <td>98.0</td>\n",
       "      <td>0.088</td>\n",
       "      <td>0.171</td>\n",
       "      <td>...</td>\n",
       "      <td>0.300</td>\n",
       "      <td>0.272</td>\n",
       "      <td>0.342</td>\n",
       "      <td>0.453</td>\n",
       "      <td>0.346</td>\n",
       "      <td>108.0</td>\n",
       "      <td>0.8</td>\n",
       "      <td>61.7</td>\n",
       "      <td>124.6</td>\n",
       "      <td>37.6</td>\n",
       "    </tr>\n",
       "    <tr>\n",
       "      <th>3</th>\n",
       "      <td>1996.0</td>\n",
       "      <td>Mariners</td>\n",
       "      <td>1736.0</td>\n",
       "      <td>6518.0</td>\n",
       "      <td>245.0</td>\n",
       "      <td>993.0</td>\n",
       "      <td>954.0</td>\n",
       "      <td>90.0</td>\n",
       "      <td>0.103</td>\n",
       "      <td>0.161</td>\n",
       "      <td>...</td>\n",
       "      <td>0.312</td>\n",
       "      <td>0.287</td>\n",
       "      <td>0.366</td>\n",
       "      <td>0.484</td>\n",
       "      <td>0.367</td>\n",
       "      <td>112.0</td>\n",
       "      <td>-1.2</td>\n",
       "      <td>109.5</td>\n",
       "      <td>33.1</td>\n",
       "      <td>37.1</td>\n",
       "    </tr>\n",
       "    <tr>\n",
       "      <th>4</th>\n",
       "      <td>2011.0</td>\n",
       "      <td>Yankees</td>\n",
       "      <td>2301.0</td>\n",
       "      <td>6306.0</td>\n",
       "      <td>222.0</td>\n",
       "      <td>867.0</td>\n",
       "      <td>836.0</td>\n",
       "      <td>147.0</td>\n",
       "      <td>0.099</td>\n",
       "      <td>0.180</td>\n",
       "      <td>...</td>\n",
       "      <td>0.292</td>\n",
       "      <td>0.263</td>\n",
       "      <td>0.343</td>\n",
       "      <td>0.444</td>\n",
       "      <td>0.345</td>\n",
       "      <td>113.0</td>\n",
       "      <td>6.6</td>\n",
       "      <td>101.6</td>\n",
       "      <td>38.5</td>\n",
       "      <td>37.0</td>\n",
       "    </tr>\n",
       "    <tr>\n",
       "      <th>5</th>\n",
       "      <td>2013.0</td>\n",
       "      <td>Red Sox</td>\n",
       "      <td>2264.0</td>\n",
       "      <td>6382.0</td>\n",
       "      <td>178.0</td>\n",
       "      <td>853.0</td>\n",
       "      <td>819.0</td>\n",
       "      <td>123.0</td>\n",
       "      <td>0.091</td>\n",
       "      <td>0.205</td>\n",
       "      <td>...</td>\n",
       "      <td>0.329</td>\n",
       "      <td>0.277</td>\n",
       "      <td>0.349</td>\n",
       "      <td>0.446</td>\n",
       "      <td>0.347</td>\n",
       "      <td>114.0</td>\n",
       "      <td>13.3</td>\n",
       "      <td>116.7</td>\n",
       "      <td>14.9</td>\n",
       "      <td>36.6</td>\n",
       "    </tr>\n",
       "  </tbody>\n",
       "</table>\n",
       "<p>5 rows × 21 columns</p>\n",
       "</div>"
      ],
      "text/plain": [
       "   Season      Team       G      PA     HR      R    RBI     SB    BB%     K%  \\\n",
       "1  2001.0  Mariners  2043.0  6474.0  169.0  927.0  881.0  174.0  0.095  0.153   \n",
       "2  1998.0    Braves  1971.0  6217.0  215.0  826.0  794.0   98.0  0.088  0.171   \n",
       "3  1996.0  Mariners  1736.0  6518.0  245.0  993.0  954.0   90.0  0.103  0.161   \n",
       "4  2011.0   Yankees  2301.0  6306.0  222.0  867.0  836.0  147.0  0.099  0.180   \n",
       "5  2013.0   Red Sox  2264.0  6382.0  178.0  853.0  819.0  123.0  0.091  0.205   \n",
       "\n",
       "   ...   BABIP    AVG    OBP    SLG   wOBA   wRC+   BsR    Off    Def   WAR  \n",
       "1  ...   0.320  0.288  0.360  0.445  0.347  116.0  16.2  143.0   84.6  44.4  \n",
       "2  ...   0.300  0.272  0.342  0.453  0.346  108.0   0.8   61.7  124.6  37.6  \n",
       "3  ...   0.312  0.287  0.366  0.484  0.367  112.0  -1.2  109.5   33.1  37.1  \n",
       "4  ...   0.292  0.263  0.343  0.444  0.345  113.0   6.6  101.6   38.5  37.0  \n",
       "5  ...   0.329  0.277  0.349  0.446  0.347  114.0  13.3  116.7   14.9  36.6  \n",
       "\n",
       "[5 rows x 21 columns]"
      ]
     },
     "execution_count": 5,
     "metadata": {},
     "output_type": "execute_result"
    }
   ],
   "source": [
    "data1=team_batting(1990, 2013, ind=1)\n",
    "#the ind=1 means that each season's data will be separated, not aggregated\n",
    "\n",
    "data1.head(5)"
   ]
  },
  {
   "cell_type": "markdown",
   "metadata": {},
   "source": [
    "## Picking Variables of Interest"
   ]
  },
  {
   "cell_type": "markdown",
   "metadata": {},
   "source": [
    "Now we pick what two variables might have a linear relationship. Maybe the amount of home runs increase each season?"
   ]
  },
  {
   "cell_type": "code",
   "execution_count": 6,
   "metadata": {
    "scrolled": true
   },
   "outputs": [
    {
     "name": "stdout",
     "output_type": "stream",
     "text": [
      "AxesSubplot(0.125,0.11;0.775x0.77)\n"
     ]
    }
   ],
   "source": [
    "import seaborn as sns\n",
    "fig1=sns.scatterplot(x=\"Season\",y=\"HR\",data=data1)\n",
    "print(fig1)"
   ]
  },
  {
   "cell_type": "markdown",
   "metadata": {},
   "source": [
    "Absolutely not! <strike>I could have totaled the homeruns from each season but it's too late now.</strike>  So then I looked into wOBA and WAR.\n",
    "\n",
    "Here is what FanGraphs defines wOBA as:\n",
    "\n",
    "![title](f1.PNG)\n",
    "\n",
    "And here is the definition for WAR:\n",
    "\n",
    "![title](f2.PNG)\n",
    "\n",
    "Of course, the value of a batter's hits will affect the batter's overall value to the team. Here is what the relationship looks like:"
   ]
  },
  {
   "cell_type": "code",
   "execution_count": 7,
   "metadata": {},
   "outputs": [
    {
     "name": "stdout",
     "output_type": "stream",
     "text": [
      "AxesSubplot(0.125,0.125;0.775x0.755)\n"
     ]
    },
    {
     "data": {
      "image/png": "[encoded data removed]",
      "text/plain": [
       "<Figure size 432x288 with 1 Axes>"
      ]
     },
     "metadata": {
      "needs_background": "light"
     },
     "output_type": "display_data"
    }
   ],
   "source": [
    "fig2=sns.scatterplot(x=\"wOBA\",y=\"WAR\",color='red',data=data1)\n",
    "print(fig2)"
   ]
  },
  {
   "cell_type": "markdown",
   "metadata": {},
   "source": [
    "## Calculating beta values...manually"
   ]
  },
  {
   "cell_type": "markdown",
   "metadata": {},
   "source": [
    "Now that we have our variables, let's go back to our beta equations\n",
    "\n",
    "![title](y2.PNG)\n",
    "\n",
    "We need the means of both wOBA and WAR, the distances from each wOBA and WAR value to their respective means, and the squared wOBA distances...for now!\n",
    "\n",
    "I will find the means first."
   ]
  },
  {
   "cell_type": "code",
   "execution_count": 8,
   "metadata": {},
   "outputs": [
    {
     "name": "stdout",
     "output_type": "stream",
     "text": [
      "wOBA mean= 0.326949856733524\n",
      "WAR mean= 18.692120343839548\n"
     ]
    }
   ],
   "source": [
    "mean_woba=np.mean(data1[\"wOBA\"])\n",
    "mean_war=np.mean(data1[\"WAR\"])\n",
    "print('wOBA mean=',mean_woba)\n",
    "print('WAR mean=',mean_war)"
   ]
  },
  {
   "cell_type": "markdown",
   "metadata": {},
   "source": [
    "To get everything else, I will create a new dataframe called data 2."
   ]
  },
  {
   "cell_type": "code",
   "execution_count": 9,
   "metadata": {},
   "outputs": [
    {
     "data": {
      "text/html": [
       "<div>\n",
       "<style scoped>\n",
       "    .dataframe tbody tr th:only-of-type {\n",
       "        vertical-align: middle;\n",
       "    }\n",
       "\n",
       "    .dataframe tbody tr th {\n",
       "        vertical-align: top;\n",
       "    }\n",
       "\n",
       "    .dataframe thead th {\n",
       "        text-align: right;\n",
       "    }\n",
       "</style>\n",
       "<table border=\"1\" class=\"dataframe\">\n",
       "  <thead>\n",
       "    <tr style=\"text-align: right;\">\n",
       "      <th></th>\n",
       "      <th>wOBA</th>\n",
       "      <th>WAR</th>\n",
       "      <th>x_diff</th>\n",
       "      <th>x_diffSQ</th>\n",
       "      <th>y_diff</th>\n",
       "    </tr>\n",
       "  </thead>\n",
       "  <tbody>\n",
       "    <tr>\n",
       "      <th>1</th>\n",
       "      <td>0.347</td>\n",
       "      <td>44.4</td>\n",
       "      <td>0.02005</td>\n",
       "      <td>0.000402</td>\n",
       "      <td>25.70788</td>\n",
       "    </tr>\n",
       "    <tr>\n",
       "      <th>2</th>\n",
       "      <td>0.346</td>\n",
       "      <td>37.6</td>\n",
       "      <td>0.01905</td>\n",
       "      <td>0.000363</td>\n",
       "      <td>18.90788</td>\n",
       "    </tr>\n",
       "    <tr>\n",
       "      <th>3</th>\n",
       "      <td>0.367</td>\n",
       "      <td>37.1</td>\n",
       "      <td>0.04005</td>\n",
       "      <td>0.001604</td>\n",
       "      <td>18.40788</td>\n",
       "    </tr>\n",
       "    <tr>\n",
       "      <th>4</th>\n",
       "      <td>0.345</td>\n",
       "      <td>37.0</td>\n",
       "      <td>0.01805</td>\n",
       "      <td>0.000326</td>\n",
       "      <td>18.30788</td>\n",
       "    </tr>\n",
       "    <tr>\n",
       "      <th>5</th>\n",
       "      <td>0.347</td>\n",
       "      <td>36.6</td>\n",
       "      <td>0.02005</td>\n",
       "      <td>0.000402</td>\n",
       "      <td>17.90788</td>\n",
       "    </tr>\n",
       "  </tbody>\n",
       "</table>\n",
       "</div>"
      ],
      "text/plain": [
       "    wOBA   WAR   x_diff  x_diffSQ    y_diff\n",
       "1  0.347  44.4  0.02005  0.000402  25.70788\n",
       "2  0.346  37.6  0.01905  0.000363  18.90788\n",
       "3  0.367  37.1  0.04005  0.001604  18.40788\n",
       "4  0.345  37.0  0.01805  0.000326  18.30788\n",
       "5  0.347  36.6  0.02005  0.000402  17.90788"
      ]
     },
     "execution_count": 9,
     "metadata": {},
     "output_type": "execute_result"
    }
   ],
   "source": [
    "data2=pd.DataFrame(data=data1,columns=[\"wOBA\",\"WAR\"])\n",
    "data2[\"x_diff\"]=data2[\"wOBA\"]-mean_woba\n",
    "data2[\"x_diffSQ\"]=data2[\"x_diff\"]**2\n",
    "data2[\"y_diff\"]=data2[\"WAR\"]-mean_war\n",
    "\n",
    "data2.head(5)"
   ]
  },
  {
   "cell_type": "markdown",
   "metadata": {},
   "source": [
    "Now we will plug all of this into the beta equations. Remember that beta1 is the slope, it tells us how much our predicted WAR value will change per one unit increase in wOBA. Beta0 is the intercept. "
   ]
  },
  {
   "cell_type": "code",
   "execution_count": 10,
   "metadata": {},
   "outputs": [
    {
     "name": "stdout",
     "output_type": "stream",
     "text": [
      "beta1 = 306.15074742254336\n",
      "beta0 = -81.4038226648223\n"
     ]
    }
   ],
   "source": [
    "beta1=(np.sum(data2[\"x_diff\"]*data2[\"y_diff\"]))/(np.sum(data2[\"x_diffSQ\"]))\n",
    "beta0=mean_war-(beta1*mean_woba)\n",
    "print('beta1 =',beta1)\n",
    "print('beta0 =',beta0)"
   ]
  },
  {
   "cell_type": "markdown",
   "metadata": {},
   "source": [
    "We will refer to these values later. Now we will use a linear modeling function from the scikit-learn python package that does all of this for us. "
   ]
  },
  {
   "cell_type": "markdown",
   "metadata": {},
   "source": [
    "## Scikit Learn Model"
   ]
  },
  {
   "cell_type": "code",
   "execution_count": 11,
   "metadata": {},
   "outputs": [
    {
     "name": "stdout",
     "output_type": "stream",
     "text": [
      "[24.83048669 24.52433594 30.95350164 24.2181852  24.83048669]\n"
     ]
    }
   ],
   "source": [
    "from sklearn import linear_model\n",
    "\n",
    "#create a new linear model\n",
    "lm=linear_model.LinearRegression()\n",
    "\n",
    "#Assigning my independent and dependent variables to 'x' and 'y' so they are easier to keep track of\n",
    "X=data2[\"wOBA\"]\n",
    "X2=X.values.reshape(-1,1)\n",
    "#there was an issue with the x values and I don't know why but I fixed it\n",
    "y=data2[\"WAR\"]\n",
    "\n",
    "#we want our model to use x2, our woba values, to predict y, WAR, so we fit the data to the model\n",
    "my_model=lm.fit(X2,y)\n",
    "\n",
    "#now we want the model's predictions for the first five WAR values in our dataframe\n",
    "predictions=lm.predict(X2)\n",
    "print(predictions[0:5])"
   ]
  },
  {
   "cell_type": "code",
   "execution_count": 12,
   "metadata": {},
   "outputs": [
    {
     "name": "stdout",
     "output_type": "stream",
     "text": [
      "0.36049833259526676\n"
     ]
    }
   ],
   "source": [
    "#To see how much of the variance in our data set is encompassed by our model we can look at the r squared coefficient\n",
    "rsq=lm.score(X2,y)\n",
    "print(rsq)"
   ]
  },
  {
   "cell_type": "markdown",
   "metadata": {},
   "source": [
    "Yikes! Let's check the beta values."
   ]
  },
  {
   "cell_type": "code",
   "execution_count": 13,
   "metadata": {},
   "outputs": [
    {
     "name": "stdout",
     "output_type": "stream",
     "text": [
      "The model's beta 1 value is  [306.15074742]  and ours was  306.15074742254336\n",
      "The model's beta 0 value is -81.40382266482246 and ours was -81.4038226648223\n"
     ]
    }
   ],
   "source": [
    "print(\"The model's beta 1 value is \",lm.coef_,\" and ours was \",beta1)\n",
    "print(\"The model's beta 0 value is\",lm.intercept_,\"and ours was\",beta0)"
   ]
  },
  {
   "cell_type": "markdown",
   "metadata": {},
   "source": [
    "So we did something right. Now let's see the graph of our line against the data."
   ]
  },
  {
   "cell_type": "code",
   "execution_count": 14,
   "metadata": {},
   "outputs": [
    {
     "data": {
      "text/plain": [
       "Text(0.5, 1.0, 'WAR Predicted by wOBA from 1990-2013')"
      ]
     },
     "execution_count": 14,
     "metadata": {},
     "output_type": "execute_result"
    },
    {
     "data": {
      "image/png": "[encoded data removed]",
      "text/plain": [
       "<Figure size 432x288 with 1 Axes>"
      ]
     },
     "metadata": {
      "needs_background": "light"
     },
     "output_type": "display_data"
    }
   ],
   "source": [
    "import matplotlib.pyplot as plt\n",
    "plt.scatter(X2,y,color='black')\n",
    "fig5=plt.plot(X2,predictions)\n",
    "plt.xlabel(\"wOBA\")\n",
    "plt.ylabel(\"Predicted WAR\")\n",
    "plt.title(\"WAR Predicted by wOBA from 1990-2013\")"
   ]
  },
  {
   "cell_type": "markdown",
   "metadata": {},
   "source": [
    "Cool! Now that we have a model, let's make predictions"
   ]
  },
  {
   "cell_type": "markdown",
   "metadata": {},
   "source": [
    "## Using the model to make predictions"
   ]
  },
  {
   "cell_type": "markdown",
   "metadata": {},
   "source": [
    "To make the model, I used data from 1980 to 2013. So, now we will make predictions about the 2014-2018 seasons and compare those predictions to the actual values. This calls for a new dataframe and variables. "
   ]
  },
  {
   "cell_type": "code",
   "execution_count": 15,
   "metadata": {},
   "outputs": [],
   "source": [
    "newdata=team_batting(2014,2018,ind=1)\n",
    "xnew=newdata['wOBA']\n",
    "x2new=xnew.values.reshape(-1,1)\n",
    "ynew=newdata['WAR']"
   ]
  },
  {
   "cell_type": "markdown",
   "metadata": {},
   "source": [
    "We will now use our model and predict our new y values (WAR values from 2014-2018)."
   ]
  },
  {
   "cell_type": "code",
   "execution_count": 16,
   "metadata": {},
   "outputs": [
    {
     "data": {
      "image/png": "[encoded data removed]",
      "text/plain": [
       "<Figure size 432x288 with 1 Axes>"
      ]
     },
     "metadata": {
      "needs_background": "light"
     },
     "output_type": "display_data"
    }
   ],
   "source": [
    "newpredictions=lm.predict(x2new)\n",
    "\n",
    "#let's graph\n",
    "plt.scatter(x2new,ynew,color='green')\n",
    "fig6=plt.plot(x2new,newpredictions)"
   ]
  },
  {
   "cell_type": "code",
   "execution_count": 17,
   "metadata": {},
   "outputs": [
    {
     "data": {
      "text/plain": [
       "0.18312424134855465"
      ]
     },
     "execution_count": 17,
     "metadata": {},
     "output_type": "execute_result"
    }
   ],
   "source": [
    "#Let's see how well the line fits the new data with the r squared coefficient\n",
    "lm.score(x2new,ynew)"
   ]
  },
  {
   "cell_type": "markdown",
   "metadata": {},
   "source": [
    "## Home Run Example"
   ]
  },
  {
   "cell_type": "markdown",
   "metadata": {},
   "source": [
    "Say we want to try to predict the total amount of home runs for each season. "
   ]
  },
  {
   "cell_type": "code",
   "execution_count": 54,
   "metadata": {},
   "outputs": [
    {
     "data": {
      "text/html": [
       "<div>\n",
       "<style scoped>\n",
       "    .dataframe tbody tr th:only-of-type {\n",
       "        vertical-align: middle;\n",
       "    }\n",
       "\n",
       "    .dataframe tbody tr th {\n",
       "        vertical-align: top;\n",
       "    }\n",
       "\n",
       "    .dataframe thead th {\n",
       "        text-align: right;\n",
       "    }\n",
       "</style>\n",
       "<table border=\"1\" class=\"dataframe\">\n",
       "  <thead>\n",
       "    <tr style=\"text-align: right;\">\n",
       "      <th></th>\n",
       "      <th>Season</th>\n",
       "      <th>HRS</th>\n",
       "    </tr>\n",
       "  </thead>\n",
       "  <tbody>\n",
       "    <tr>\n",
       "      <th>0</th>\n",
       "      <td>2001.0</td>\n",
       "      <td>5458.0</td>\n",
       "    </tr>\n",
       "    <tr>\n",
       "      <th>1</th>\n",
       "      <td>1998.0</td>\n",
       "      <td>5064.0</td>\n",
       "    </tr>\n",
       "    <tr>\n",
       "      <th>2</th>\n",
       "      <td>1996.0</td>\n",
       "      <td>4962.0</td>\n",
       "    </tr>\n",
       "    <tr>\n",
       "      <th>3</th>\n",
       "      <td>2011.0</td>\n",
       "      <td>4552.0</td>\n",
       "    </tr>\n",
       "    <tr>\n",
       "      <th>4</th>\n",
       "      <td>2013.0</td>\n",
       "      <td>4661.0</td>\n",
       "    </tr>\n",
       "    <tr>\n",
       "      <th>5</th>\n",
       "      <td>1990.0</td>\n",
       "      <td>3317.0</td>\n",
       "    </tr>\n",
       "    <tr>\n",
       "      <th>6</th>\n",
       "      <td>2011.0</td>\n",
       "      <td>4552.0</td>\n",
       "    </tr>\n",
       "    <tr>\n",
       "      <th>7</th>\n",
       "      <td>1998.0</td>\n",
       "      <td>5064.0</td>\n",
       "    </tr>\n",
       "  </tbody>\n",
       "</table>\n",
       "</div>"
      ],
      "text/plain": [
       "   Season     HRS\n",
       "0  2001.0  5458.0\n",
       "1  1998.0  5064.0\n",
       "2  1996.0  4962.0\n",
       "3  2011.0  4552.0\n",
       "4  2013.0  4661.0\n",
       "5  1990.0  3317.0\n",
       "6  2011.0  4552.0\n",
       "7  1998.0  5064.0"
      ]
     },
     "execution_count": 54,
     "metadata": {},
     "output_type": "execute_result"
    }
   ],
   "source": [
    "#Making two lists to hold our variables of interest: season and homeruns\n",
    "szn=[] \n",
    "hrs=[]   \n",
    "\n",
    "#Our original dataframe does not provide the total amount of home runs for each season so we have to sum them\n",
    "for x in data1.Season:\n",
    "    szn.append(x)\n",
    "    hrs.append(data1.loc[data1['Season']==x,'HR'].sum())\n",
    "\n",
    "#add the season and total homeruns to a new dataframe    \n",
    "hr=pd.DataFrame(columns=[\"Season\",\"HRS\"])\n",
    "hr.Season=szn  \n",
    "hr.HRS=hrs \n",
    "hr.head(8)"
   ]
  },
  {
   "cell_type": "markdown",
   "metadata": {},
   "source": [
    "Our dataframe has duplicates, so we will have to drop them"
   ]
  },
  {
   "cell_type": "code",
   "execution_count": 55,
   "metadata": {},
   "outputs": [
    {
     "data": {
      "text/html": [
       "<div>\n",
       "<style scoped>\n",
       "    .dataframe tbody tr th:only-of-type {\n",
       "        vertical-align: middle;\n",
       "    }\n",
       "\n",
       "    .dataframe tbody tr th {\n",
       "        vertical-align: top;\n",
       "    }\n",
       "\n",
       "    .dataframe thead th {\n",
       "        text-align: right;\n",
       "    }\n",
       "</style>\n",
       "<table border=\"1\" class=\"dataframe\">\n",
       "  <thead>\n",
       "    <tr style=\"text-align: right;\">\n",
       "      <th></th>\n",
       "      <th>Season</th>\n",
       "      <th>HRS</th>\n",
       "    </tr>\n",
       "  </thead>\n",
       "  <tbody>\n",
       "    <tr>\n",
       "      <th>5</th>\n",
       "      <td>1990.0</td>\n",
       "      <td>3317.0</td>\n",
       "    </tr>\n",
       "    <tr>\n",
       "      <th>43</th>\n",
       "      <td>1991.0</td>\n",
       "      <td>3383.0</td>\n",
       "    </tr>\n",
       "    <tr>\n",
       "      <th>54</th>\n",
       "      <td>1992.0</td>\n",
       "      <td>3038.0</td>\n",
       "    </tr>\n",
       "    <tr>\n",
       "      <th>10</th>\n",
       "      <td>1993.0</td>\n",
       "      <td>4030.0</td>\n",
       "    </tr>\n",
       "    <tr>\n",
       "      <th>123</th>\n",
       "      <td>1994.0</td>\n",
       "      <td>3306.0</td>\n",
       "    </tr>\n",
       "  </tbody>\n",
       "</table>\n",
       "</div>"
      ],
      "text/plain": [
       "     Season     HRS\n",
       "5    1990.0  3317.0\n",
       "43   1991.0  3383.0\n",
       "54   1992.0  3038.0\n",
       "10   1993.0  4030.0\n",
       "123  1994.0  3306.0"
      ]
     },
     "execution_count": 55,
     "metadata": {},
     "output_type": "execute_result"
    }
   ],
   "source": [
    "hr.reset_index(drop=True)\n",
    "hr.drop_duplicates(inplace=True)\n",
    "hr.sort_values(['Season','HRS']).head(5)\n"
   ]
  },
  {
   "cell_type": "markdown",
   "metadata": {},
   "source": [
    "A plot of our data"
   ]
  },
  {
   "cell_type": "code",
   "execution_count": 56,
   "metadata": {},
   "outputs": [
    {
     "data": {
      "text/plain": [
       "Text(0.5, 1.0, 'Total homeruns from 1990 to 2013')"
      ]
     },
     "execution_count": 56,
     "metadata": {},
     "output_type": "execute_result"
    },
    {
     "data": {
      "image/png": "[encoded data removed]",
      "text/plain": [
       "<Figure size 432x288 with 1 Axes>"
      ]
     },
     "metadata": {
      "needs_background": "light"
     },
     "output_type": "display_data"
    }
   ],
   "source": [
    "fig7=plt.scatter(hr.Season,hr.HRS)\n",
    "plt.xlabel('Season')\n",
    "plt.ylabel('Amt of Home Runs')\n",
    "plt.title(\"Total homeruns from 1990 to 2013\")"
   ]
  },
  {
   "cell_type": "markdown",
   "metadata": {},
   "source": [
    "Let's build another linear model because I don't know what the other ones mean yet"
   ]
  },
  {
   "cell_type": "code",
   "execution_count": 57,
   "metadata": {},
   "outputs": [
    {
     "name": "stdout",
     "output_type": "stream",
     "text": [
      "[612526.24176984 611607.78952758 610995.48803273 615587.74924407\n",
      " 616200.05073892]\n"
     ]
    }
   ],
   "source": [
    "lm2=linear_model.LinearRegression()\n",
    "\n",
    "hrX=hr[\"Season\"]\n",
    "hrX2=hrX.values.reshape(-1,1)\n",
    "hry=hr[\"HRS\"]\n",
    "\n",
    "hr_model=lm2.fit(hrX2,hry)\n",
    "hrpredictions=lm.predict(hrX2)\n",
    "#print a few predicted amounts of total homeruns\n",
    "print(hrpredictions[0:5])"
   ]
  },
  {
   "cell_type": "markdown",
   "metadata": {},
   "source": [
    "Let's check our beta0 and beta1 values"
   ]
  },
  {
   "cell_type": "code",
   "execution_count": 58,
   "metadata": {},
   "outputs": [
    {
     "name": "stdout",
     "output_type": "stream",
     "text": [
      "beta1= [62.02130435]\n",
      "beta0= -119458.26565217388\n"
     ]
    }
   ],
   "source": [
    "print('beta1=',lm2.coef_)\n",
    "print('beta0=',lm2.intercept_)"
   ]
  },
  {
   "cell_type": "markdown",
   "metadata": {},
   "source": [
    "Now we will graph our model over the data"
   ]
  },
  {
   "cell_type": "code",
   "execution_count": 59,
   "metadata": {},
   "outputs": [
    {
     "data": {
      "text/plain": [
       "Text(0.5, 1.0, 'HRS Predicted from 1990-2013')"
      ]
     },
     "execution_count": 59,
     "metadata": {},
     "output_type": "execute_result"
    },
    {
     "data": {
      "image/png": "[encoded data removed]",
      "text/plain": [
       "<Figure size 432x288 with 1 Axes>"
      ]
     },
     "metadata": {
      "needs_background": "light"
     },
     "output_type": "display_data"
    }
   ],
   "source": [
    "plt.scatter(hrX2,hry,color='black')\n",
    "fig8=plt.plot(hrX2,hrpredictions)\n",
    "plt.xlabel(\"Season\")\n",
    "plt.ylabel(\"Predicted HRS\")\n",
    "plt.title(\"HRS Predicted from 1990-2013\")"
   ]
  },
  {
   "cell_type": "markdown",
   "metadata": {},
   "source": [
    "oh"
   ]
  },
  {
   "cell_type": "code",
   "execution_count": null,
   "metadata": {},
   "outputs": [],
   "source": []
  }
 ],
 "metadata": {
  "kernelspec": {
   "display_name": "Python 3",
   "language": "python",
   "name": "python3"
  },
  "language_info": {
   "codemirror_mode": {
    "name": "ipython",
    "version": 3
   },
   "file_extension": ".py",
   "mimetype": "text/x-python",
   "name": "python",
   "nbconvert_exporter": "python",
   "pygments_lexer": "ipython3",
   "version": "3.6.8"
  }
 },
 "nbformat": 4,
 "nbformat_minor": 2
}
